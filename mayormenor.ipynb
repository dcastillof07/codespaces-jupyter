{
 "cells": [
  {
   "cell_type": "code",
   "execution_count": 7,
   "metadata": {},
   "outputs": [
    {
     "name": "stdout",
     "output_type": "stream",
     "text": [
      "El Numero1 es mayor que el Numero2\n"
     ]
    }
   ],
   "source": [
    "Numero1= float(input(\"Escribe tu numero entero\"))\n",
    "Numero2= float(input(\"Escribe otro numero entero\"))\n",
    "if Numero1>=Numero2:\n",
    "    print(\"El Numero1 es mayor que el Numero2\")\n",
    "else:\n",
    "    print(\"El Numero2 es mayor que el Numero1\")\n"
   ]
  }
 ],
 "metadata": {
  "kernelspec": {
   "display_name": "Python 3",
   "language": "python",
   "name": "python3"
  },
  "language_info": {
   "codemirror_mode": {
    "name": "ipython",
    "version": 3
   },
   "file_extension": ".py",
   "mimetype": "text/x-python",
   "name": "python",
   "nbconvert_exporter": "python",
   "pygments_lexer": "ipython3",
   "version": "3.10.13"
  }
 },
 "nbformat": 4,
 "nbformat_minor": 2
}
