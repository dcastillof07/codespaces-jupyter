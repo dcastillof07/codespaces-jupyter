{
 "cells": [
  {
   "cell_type": "code",
   "execution_count": 1,
   "metadata": {},
   "outputs": [],
   "source": [
    "numero1=float (input(\"escribe un numero\"))\n",
    "numero2=float(input(\"escribe otro numero\"))\n",
    "\n",
    "a1 = numero1+numero2\n",
    "c = numero1*numero2\n",
    "\n",
    "if numero1 >= numero2:\n",
    "    print(a1)\n",
    "if numero1 <= numero2:\n",
    "    print(c)\n",
    "    \n",
    "\n"
   ]
  }
 ],
 "metadata": {
  "kernelspec": {
   "display_name": "Python 3",
   "language": "python",
   "name": "python3"
  },
  "language_info": {
   "codemirror_mode": {
    "name": "ipython",
    "version": 3
   },
   "file_extension": ".py",
   "mimetype": "text/x-python",
   "name": "python",
   "nbconvert_exporter": "python",
   "pygments_lexer": "ipython3",
   "version": "3.10.13"
  }
 },
 "nbformat": 4,
 "nbformat_minor": 2
}
